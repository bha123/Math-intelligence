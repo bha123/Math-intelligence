{
 "cells": [
  {
   "cell_type": "code",
   "execution_count": 272,
   "metadata": {
    "collapsed": true
   },
   "outputs": [],
   "source": [
    "#Importing numpy library\n",
    "import numpy as np"
   ]
  },
  {
   "cell_type": "code",
   "execution_count": 273,
   "metadata": {},
   "outputs": [
    {
     "data": {
      "text/plain": [
       "('data.csv', <http.client.HTTPMessage at 0x1c26155bc50>)"
      ]
     },
     "execution_count": 273,
     "metadata": {},
     "output_type": "execute_result"
    }
   ],
   "source": [
    "#Download Dataset\n",
    "import urllib\n",
    "urllib.request.urlretrieve(\"https://raw.githubusercontent.com/llSourcell/Intro_to_the_Math_of_intelligence/master/data.csv\",\"data.csv\")"
   ]
  },
  {
   "cell_type": "code",
   "execution_count": 274,
   "metadata": {},
   "outputs": [
    {
     "data": {
      "text/html": [
       "<div>\n",
       "<style>\n",
       "    .dataframe thead tr:only-child th {\n",
       "        text-align: right;\n",
       "    }\n",
       "\n",
       "    .dataframe thead th {\n",
       "        text-align: left;\n",
       "    }\n",
       "\n",
       "    .dataframe tbody tr th {\n",
       "        vertical-align: top;\n",
       "    }\n",
       "</style>\n",
       "<table border=\"1\" class=\"dataframe\">\n",
       "  <thead>\n",
       "    <tr style=\"text-align: right;\">\n",
       "      <th></th>\n",
       "      <th>X</th>\n",
       "      <th>Y</th>\n",
       "    </tr>\n",
       "  </thead>\n",
       "  <tbody>\n",
       "    <tr>\n",
       "      <th>0</th>\n",
       "      <td>32.502345</td>\n",
       "      <td>31.707006</td>\n",
       "    </tr>\n",
       "    <tr>\n",
       "      <th>1</th>\n",
       "      <td>53.426804</td>\n",
       "      <td>68.777596</td>\n",
       "    </tr>\n",
       "    <tr>\n",
       "      <th>2</th>\n",
       "      <td>61.530358</td>\n",
       "      <td>62.562382</td>\n",
       "    </tr>\n",
       "    <tr>\n",
       "      <th>3</th>\n",
       "      <td>47.475640</td>\n",
       "      <td>71.546632</td>\n",
       "    </tr>\n",
       "    <tr>\n",
       "      <th>4</th>\n",
       "      <td>59.813208</td>\n",
       "      <td>87.230925</td>\n",
       "    </tr>\n",
       "    <tr>\n",
       "      <th>5</th>\n",
       "      <td>55.142188</td>\n",
       "      <td>78.211518</td>\n",
       "    </tr>\n",
       "    <tr>\n",
       "      <th>6</th>\n",
       "      <td>52.211797</td>\n",
       "      <td>79.641973</td>\n",
       "    </tr>\n",
       "    <tr>\n",
       "      <th>7</th>\n",
       "      <td>39.299567</td>\n",
       "      <td>59.171489</td>\n",
       "    </tr>\n",
       "    <tr>\n",
       "      <th>8</th>\n",
       "      <td>48.105042</td>\n",
       "      <td>75.331242</td>\n",
       "    </tr>\n",
       "    <tr>\n",
       "      <th>9</th>\n",
       "      <td>52.550014</td>\n",
       "      <td>71.300880</td>\n",
       "    </tr>\n",
       "  </tbody>\n",
       "</table>\n",
       "</div>"
      ],
      "text/plain": [
       "           X          Y\n",
       "0  32.502345  31.707006\n",
       "1  53.426804  68.777596\n",
       "2  61.530358  62.562382\n",
       "3  47.475640  71.546632\n",
       "4  59.813208  87.230925\n",
       "5  55.142188  78.211518\n",
       "6  52.211797  79.641973\n",
       "7  39.299567  59.171489\n",
       "8  48.105042  75.331242\n",
       "9  52.550014  71.300880"
      ]
     },
     "execution_count": 274,
     "metadata": {},
     "output_type": "execute_result"
    }
   ],
   "source": [
    "#Read the dataset\n",
    "import pandas as pd\n",
    "headers = ['X','Y']\n",
    "data_csv = pd.read_csv('data.csv', error_bad_lines=False, names=headers)\n",
    "data_csv.head(10)"
   ]
  },
  {
   "cell_type": "code",
   "execution_count": 275,
   "metadata": {},
   "outputs": [
    {
     "data": {
      "image/png": "[encoded data removed]",
      "text/plain": [
       "<matplotlib.figure.Figure at 0x1c2615c2390>"
      ]
     },
     "metadata": {},
     "output_type": "display_data"
    }
   ],
   "source": [
    "# Plotting the dataset\n",
    "import matplotlib.pyplot as plt\n",
    "x = data_csv['X']\n",
    "y = data_csv['Y']\n",
    "\n",
    "\n",
    "#Converting them into numpy array\n",
    "X = np.array(x)\n",
    "Y = np.array(y)\n",
    "\n",
    "plt.scatter(X,Y)\n",
    "plt.show()\n"
   ]
  },
  {
   "cell_type": "markdown",
   "metadata": {
    "collapsed": true
   },
   "source": [
    "Line equation : \n",
    "y = m * x + c \n",
    "\n",
    "y = output\n",
    "m = slope  = (y2 - y1)/(x2 - x1)\n",
    "c = y-intercept\n",
    "\n",
    "\n",
    "Now our goal is to create a hypothesis function that can actually predict the value Y based on given X\n",
    "\n",
    "Error = Y (output) - Y(predicted)\n",
    "\n",
    "Means Squared error = 1/2 * (Y(output) - Y(predicted))^2\n",
    "\n",
    "1/2 is taken to reduce the computational complexity\n",
    "\n",
    "Derivates of Error with respect to m and c \n",
    "\n",
    "\n",
    "Recap of calculus - power rule y = x^n then dy/dx = n*x^(n-1)           - 1\n",
    "                  -            y = f(g(x))  then dy/dx = f'(g(x))*g'(x) - 2 \n",
    "                               x = constant then dy/dx = 0              - 3   \n",
    "                               y = x  then dy/dx = 1                    - 4\n",
    "                               \n",
    "                               \n",
    "Gradient are used to identify rate of change of output with respect to change in particular variable\n",
    "y(predicted) = y = m*x + c , here y(output) is constant\n",
    "\n",
    "Mean square error \n",
    "\n",
    "Error = 1/2 *( y(output) - y(predicted))^2\n",
    "      = 1/2 *( y(output) - (m * x + c))^2\n",
    "      \n",
    "      \n",
    "Applying derivaties with respect to m and c on error function\n",
    "\n",
    "d(Error)/d(m) = 2 * (1/2 * (y(output) - (m * x + c)))     y(output) is constant\n",
    "\n",
    "              =   -1 * (m * x + c ) * d(m* x +c)/d(m)   rule no : 2\n",
    "              =  -1 *(y- (m*x+c))* x\n",
    "                                       \n",
    " m_gradient   = -x*(m*x + c)\n",
    "              \n",
    "d(Error)/d(c) = 2 * (1/2 *( y(output) - (m * x + c))\n",
    "              = -(y - (m * x + c))  \n",
    " \n",
    " c_gradient  = -(y- (m*x+c))\n",
    " \n",
    " \n",
    " #sum it up \n",
    " m_gradient   = -x*(y -(m*x + c))\n",
    " c_gradient  = -(y -(m*x+c))\n",
    " \n",
    " # updated gradient values \n",
    " \n",
    " learning_rate = rate at  which the change will be added taken into by multiplying with gradient (eg: 0.01)\n",
    " \n",
    " m_updated_Value = m_original - (learning_rate * m_gradient)\n",
    " c_updated_value = c_original - (learning_rate * c_gradient)\n",
    " \n"
   ]
  },
  {
   "cell_type": "code",
   "execution_count": 276,
   "metadata": {
    "collapsed": true
   },
   "outputs": [],
   "source": [
    "#initialize m and c\n",
    "m = 0\n",
    "c = 0\n",
    "\n"
   ]
  },
  {
   "cell_type": "markdown",
   "metadata": {},
   "source": [
    "Pseudo code for Gradient decent\n",
    "1. Read  x and y variable\n",
    "2. Initalize random values for m and c\n",
    "3. For i in range(iterations)\n",
    "     get value of y using m and c\n",
    "     check error value\n",
    "     update value of m and c\n",
    "     repeat \n"
   ]
  },
  {
   "cell_type": "code",
   "execution_count": 277,
   "metadata": {
    "collapsed": true
   },
   "outputs": [],
   "source": [
    "# taking iterations of 10000\n",
    "iterations = 100"
   ]
  },
  {
   "cell_type": "code",
   "execution_count": 278,
   "metadata": {
    "collapsed": true
   },
   "outputs": [],
   "source": [
    "#setting the learning rate\n",
    "learning_rate = 0.0001"
   ]
  },
  {
   "cell_type": "code",
   "execution_count": 279,
   "metadata": {
    "collapsed": true
   },
   "outputs": [],
   "source": [
    "def caliculate_error(x, y, m, c):\n",
    "    y_predicted = m * x + c \n",
    "    error = (1/2)*((y - y_predicted)**2)\n",
    "    error = np.mean(error)\n",
    "    return  error\n",
    "\n",
    "    "
   ]
  },
  {
   "cell_type": "code",
   "execution_count": 280,
   "metadata": {
    "collapsed": true
   },
   "outputs": [],
   "source": [
    "def update_value(x,m,c,y, learning_rate):\n",
    "    m_gradient = -x*(y - (m*x + c))\n",
    "    c_gradient = -(y - (m*x+c))\n",
    "    m_new  = m - (learning_rate*m_gradient)\n",
    "    c_new  = c - (learning_rate*c_gradient)\n",
    "\n",
    "    return np.mean(m_new), np.mean(c_new)"
   ]
  },
  {
   "cell_type": "code",
   "execution_count": 281,
   "metadata": {
    "collapsed": true
   },
   "outputs": [],
   "source": [
    "loss_values = []"
   ]
  },
  {
   "cell_type": "code",
   "execution_count": 282,
   "metadata": {},
   "outputs": [
    {
     "name": "stdout",
     "output_type": "stream",
     "text": [
      "1.47886174167\n",
      "0.0320719151316\n"
     ]
    }
   ],
   "source": [
    "# Extract M and C values \n",
    "for i in range(iterations):\n",
    "    loss_values.append(caliculate_error(X,Y,m,c))\n",
    "    m_new, c_new = update_value(X,m,c,Y, learning_rate)\n",
    "    m = m_new\n",
    "    c = c_new\n",
    "    \n",
    "print(m)\n",
    "print(c)"
   ]
  },
  {
   "cell_type": "code",
   "execution_count": 283,
   "metadata": {},
   "outputs": [
    {
     "data": {
      "image/png": "[encoded data removed]",
      "text/plain": [
       "<matplotlib.figure.Figure at 0x1c25ff72898>"
      ]
     },
     "metadata": {},
     "output_type": "display_data"
    }
   ],
   "source": [
    "#plotting the loss_values\n",
    "\n",
    "plt.plot(loss_values)\n",
    "plt.show()"
   ]
  },
  {
   "cell_type": "code",
   "execution_count": 284,
   "metadata": {},
   "outputs": [
    {
     "data": {
      "image/png": "[encoded data removed]",
      "text/plain": [
       "<matplotlib.figure.Figure at 0x1c26165c358>"
      ]
     },
     "metadata": {},
     "output_type": "display_data"
    }
   ],
   "source": [
    "#plot line with the updated values \n",
    "\n",
    "Y_latest = (X*m + c)\n",
    "\n",
    "plt.scatter(X,Y_latest)\n",
    "plt.scatter(X,Y)\n",
    "\n",
    "plt.show()"
   ]
  }
 ],
 "metadata": {
  "kernelspec": {
   "display_name": "Python 3",
   "language": "python",
   "name": "python3"
  },
  "language_info": {
   "codemirror_mode": {
    "name": "ipython",
    "version": 3
   },
   "file_extension": ".py",
   "mimetype": "text/x-python",
   "name": "python",
   "nbconvert_exporter": "python",
   "pygments_lexer": "ipython3",
   "version": "3.6.3"
  }
 },
 "nbformat": 4,
 "nbformat_minor": 2
}
